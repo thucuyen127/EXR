{
 "cells": [
  {
   "cell_type": "code",
   "execution_count": null,
   "metadata": {},
   "outputs": [],
   "source": [
    "class Stack:\n",
    "\n",
    "\tdef __init__(self):\n",
    "\t\tself.items = []\n",
    "\n",
    "\tdef isEmpty(self):\n",
    "\t\treturn self.items == []\n",
    "\n",
    "\tdef push(self, item):\n",
    "\t\tself.items.append(item)\n",
    "\n",
    "\tdef pop(self):\n",
    "\t\treturn self.items.pop()\n",
    "\n",
    "\tdef peek(self):\n",
    "\t\treturn self.items[len(self.items) - 1]\n",
    "\n",
    "\tdef size(self):\n",
    "\t\treturn len(self.items)\n",
    "\n",
    "if __name__ == \"__main__\":\n",
    "\ts = Stack()\n",
    "\tprint (\"Is empty: \" + str(s.isEmpty()))\n",
    "\ts.push(4)\n",
    "\ts.push('dog')\n",
    "\ts.push(True)\n",
    "\ts.push(8.4)\n",
    "\tprint (\"Peek of Stack: \" + str(s.peek()))\n",
    "\tprint (\"Items:\",)\n",
    "\tprint (s.items)\n",
    "\tprint (\"Size: \" + str(s.size()))\n",
    "\tprint (\"Pop: \" + str(s.pop()))\n",
    "\n",
    "\tprint (\"Items:\",)\n",
    "\tprint (s.items)\n",
    "\tprint (\"Size: \" + str(s.size()))"
   ]
  }
 ],
 "metadata": {
  "kernelspec": {
   "display_name": "Python 3",
   "language": "python",
   "name": "python3"
  },
  "language_info": {
   "codemirror_mode": {
    "name": "ipython",
    "version": 3
   },
   "file_extension": ".py",
   "mimetype": "text/x-python",
   "name": "python",
   "nbconvert_exporter": "python",
   "pygments_lexer": "ipython3",
   "version": "3.8.3"
  }
 },
 "nbformat": 4,
 "nbformat_minor": 4
}

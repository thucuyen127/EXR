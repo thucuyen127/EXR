{
 "cells": [
  {
   "cell_type": "code",
   "execution_count": 1,
   "metadata": {},
   "outputs": [
    {
     "name": "stdout",
     "output_type": "stream",
     "text": [
      "Nhập số cần tính giai thừa: 5\n",
      "120\n"
     ]
    }
   ],
   "source": [
    "n = int(input(\"Nhập số cần tính giai thừa: \"))\n",
    " \n",
    "def giaithua(n):\n",
    "    if n == 0:\n",
    "        return 1\n",
    "    return n * giaithua(n - 1)\n",
    " \n",
    "print(giaithua(n))"
   ]
  },
  {
   "cell_type": "code",
   "execution_count": null,
   "metadata": {},
   "outputs": [],
   "source": []
  }
 ],
 "metadata": {
  "kernelspec": {
   "display_name": "Python 3",
   "language": "python",
   "name": "python3"
  },
  "language_info": {
   "codemirror_mode": {
    "name": "ipython",
    "version": 3
   },
   "file_extension": ".py",
   "mimetype": "text/x-python",
   "name": "python",
   "nbconvert_exporter": "python",
   "pygments_lexer": "ipython3",
   "version": "3.8.3"
  }
 },
 "nbformat": 4,
 "nbformat_minor": 4
}

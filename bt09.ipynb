{
 "cells": [
  {
   "cell_type": "code",
   "execution_count": 1,
   "metadata": {},
   "outputs": [
    {
     "name": "stdout",
     "output_type": "stream",
     "text": [
      "Is empty: True\n",
      "List: [1, 2, 3]\n",
      "Pop item at position 0: 1\n",
      "List: [2, 3]\n",
      "Peek of queue: 3\n",
      "Size: 2\n"
     ]
    }
   ],
   "source": [
    "class Queue:\n",
    "\n",
    "\tdef __init__(self):\n",
    "\t\tself.items = []\n",
    "\n",
    "\tdef isEmpty(self):\n",
    "\t\treturn self.items == []\n",
    "\n",
    "\tdef pop(self):\n",
    "\t\treturn self.items.pop(0)\n",
    "\n",
    "\tdef size(self):\n",
    "\t\treturn len(self.items)\n",
    "\n",
    "\tdef peek(self):\n",
    "\t\treturn self.items[ len(self.items) - 1 ]\n",
    "\n",
    "\tdef push(self, item):\n",
    "\t\tself.items.append(item)\n",
    "\n",
    "if __name__ == \"__main__\":\n",
    "\tq = Queue()\n",
    "\tprint (\"Is empty: \" + str(q.isEmpty()))\n",
    "\tq.push(1)\n",
    "\tq.push(2)\n",
    "\tq.push(3)\n",
    "\tprint (\"List: \" + str(q.items))\n",
    "\n",
    "\tprint (\"Pop item at position 0: \" + str(q.pop()))\n",
    "\tprint (\"List: \" + str(q.items))\n",
    "\n",
    "\tprint (\"Peek of queue: \" + str(q.peek()))\n",
    "\tprint (\"Size: \" + str(q.size()))"
   ]
  },
  {
   "cell_type": "code",
   "execution_count": null,
   "metadata": {},
   "outputs": [],
   "source": []
  }
 ],
 "metadata": {
  "kernelspec": {
   "display_name": "Python 3",
   "language": "python",
   "name": "python3"
  },
  "language_info": {
   "codemirror_mode": {
    "name": "ipython",
    "version": 3
   },
   "file_extension": ".py",
   "mimetype": "text/x-python",
   "name": "python",
   "nbconvert_exporter": "python",
   "pygments_lexer": "ipython3",
   "version": "3.8.3"
  }
 },
 "nbformat": 4,
 "nbformat_minor": 4
}
